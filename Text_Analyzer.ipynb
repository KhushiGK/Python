{
  "nbformat": 4,
  "nbformat_minor": 0,
  "metadata": {
    "colab": {
      "provenance": [],
      "authorship_tag": "ABX9TyOcilr8ds+REUr1rYdhXWf7",
      "include_colab_link": true
    },
    "kernelspec": {
      "name": "python3",
      "display_name": "Python 3"
    },
    "language_info": {
      "name": "python"
    }
  },
  "cells": [
    {
      "cell_type": "markdown",
      "metadata": {
        "id": "view-in-github",
        "colab_type": "text"
      },
      "source": [
        "<a href=\"https://colab.research.google.com/github/KhushiGK/Python/blob/main/Text_Analyzer.ipynb\" target=\"_parent\"><img src=\"https://colab.research.google.com/assets/colab-badge.svg\" alt=\"Open In Colab\"/></a>"
      ]
    },
    {
      "cell_type": "code",
      "source": [
        "givenstring=\"Lorem ipsum dolor! diam amet, consetetur Lorem magna. sed diam nonumy eirmod tempor. diam et labore? et diam magna. et diam amet.\""
      ],
      "metadata": {
        "id": "grpmQXgZS6q9"
      },
      "execution_count": null,
      "outputs": []
    },
    {
      "cell_type": "code",
      "execution_count": null,
      "metadata": {
        "id": "D25F0ACPSppN"
      },
      "outputs": [],
      "source": [
        "class TextAnalyzer:\n",
        "  def __init__(self,text):\n",
        "    #removing punctuation\n",
        "    formattedText=text.replace('.','').replace('!','').replace('?','').replace(',','')\n",
        "    #formatting the text to lowercase\n",
        "    formattedText=formattedText.lower()\n",
        "    self.fmtText=formattedText #creating the fmtText variable to store teh formatted text\n",
        "\n",
        "  #method to calculate frequency of all the words in the string and store it in a dictionary\n",
        "  def freqAll(self):\n",
        "    #use .split() to create a list of words in the string\n",
        "    wordList=self.fmtText.split(' ')\n",
        "    freqMap={} #empty dictionary\n",
        "    for word in set(wordList):\n",
        "      freqMap[word]=wordList.count(word) #create a dict with words & its frequency\n",
        "    return freqMap\n",
        "\n",
        "  #methos to calucalte the frequency of one input word from the freqMap dict\n",
        "  def freqWord(self,word):\n",
        "    freqDict=self.freqAll()\n",
        "    if word in freqDict:\n",
        "      return freqDict[word]\n",
        "    else:\n",
        "      return 0"
      ]
    },
    {
      "cell_type": "code",
      "source": [
        "analyzed=TextAnalyzer(givenstring)"
      ],
      "metadata": {
        "id": "CnQRuNAPSx8_"
      },
      "execution_count": null,
      "outputs": []
    },
    {
      "cell_type": "code",
      "source": [
        "print(\"Formatted Text: \",analyzed.fmtText)"
      ],
      "metadata": {
        "colab": {
          "base_uri": "https://localhost:8080/"
        },
        "id": "JEKx62jAS4D1",
        "outputId": "654b2786-ae12-49eb-97bd-da71ce8f17e6"
      },
      "execution_count": null,
      "outputs": [
        {
          "output_type": "stream",
          "name": "stdout",
          "text": [
            "Formatted Text:  lorem ipsum dolor diam amet consetetur lorem magna sed diam nonumy eirmod tempor diam et labore et diam magna et diam amet\n"
          ]
        }
      ]
    },
    {
      "cell_type": "code",
      "source": [
        "freqMap = analyzed.freqAll()\n",
        "print(freqMap)"
      ],
      "metadata": {
        "colab": {
          "base_uri": "https://localhost:8080/"
        },
        "id": "mwv2yjL3TEjK",
        "outputId": "28e556fe-446e-445c-bff4-f60a355a6e02"
      },
      "execution_count": null,
      "outputs": [
        {
          "output_type": "stream",
          "name": "stdout",
          "text": [
            "{'sed': 1, 'diam': 5, 'tempor': 1, 'magna': 2, 'et': 3, 'dolor': 1, 'eirmod': 1, 'labore': 1, 'lorem': 2, 'consetetur': 1, 'amet': 2, 'ipsum': 1, 'nonumy': 1}\n"
          ]
        }
      ]
    },
    {
      "cell_type": "code",
      "source": [
        "word=\"lorem\"\n",
        "frequency=analyzed.freqWord(word)\n",
        "print(word,\": \",frequency)"
      ],
      "metadata": {
        "colab": {
          "base_uri": "https://localhost:8080/"
        },
        "id": "UddTMQN5TGJn",
        "outputId": "a7a37024-c747-4d63-caaa-e5b755beba77"
      },
      "execution_count": null,
      "outputs": [
        {
          "output_type": "stream",
          "name": "stdout",
          "text": [
            "lorem :  2\n"
          ]
        }
      ]
    },
    {
      "cell_type": "code",
      "source": [],
      "metadata": {
        "id": "N85LbZL_TL2n"
      },
      "execution_count": null,
      "outputs": []
    }
  ]
}